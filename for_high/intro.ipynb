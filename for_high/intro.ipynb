{
 "cells": [
  {
   "cell_type": "code",
   "execution_count": 1,
   "id": "b7a60d3d",
   "metadata": {},
   "outputs": [],
   "source": [
    "from sympy import *"
   ]
  },
  {
   "cell_type": "code",
   "execution_count": 2,
   "id": "614fadf2",
   "metadata": {},
   "outputs": [],
   "source": [
    "x = symbols('x')"
   ]
  },
  {
   "cell_type": "code",
   "execution_count": 3,
   "id": "5a68feb0",
   "metadata": {},
   "outputs": [],
   "source": [
    "a = Integral(cos(x)*exp(x),x)"
   ]
  },
  {
   "cell_type": "code",
   "execution_count": 4,
   "id": "7a74d0a2",
   "metadata": {},
   "outputs": [
    {
     "data": {
      "text/latex": [
       "$\\displaystyle \\int e^{x} \\cos{\\left(x \\right)}\\, dx$"
      ],
      "text/plain": [
       "Integral(exp(x)*cos(x), x)"
      ]
     },
     "execution_count": 4,
     "metadata": {},
     "output_type": "execute_result"
    }
   ],
   "source": [
    "a"
   ]
  },
  {
   "cell_type": "code",
   "execution_count": 6,
   "id": "6c0443a1",
   "metadata": {},
   "outputs": [
    {
     "data": {
      "text/latex": [
       "$\\displaystyle \\int e^{x} \\cos{\\left(x \\right)}\\, dx = \\frac{e^{x} \\sin{\\left(x \\right)}}{2} + \\frac{e^{x} \\cos{\\left(x \\right)}}{2}$"
      ],
      "text/plain": [
       "Eq(Integral(exp(x)*cos(x), x), exp(x)*sin(x)/2 + exp(x)*cos(x)/2)"
      ]
     },
     "execution_count": 6,
     "metadata": {},
     "output_type": "execute_result"
    }
   ],
   "source": [
    "Eq(a, a.doit())"
   ]
  },
  {
   "cell_type": "code",
   "execution_count": 7,
   "id": "57f8d311",
   "metadata": {},
   "outputs": [
    {
     "data": {
      "text/latex": [
       "$\\displaystyle \\sqrt{3}$"
      ],
      "text/plain": [
       "sqrt(3)"
      ]
     },
     "execution_count": 7,
     "metadata": {},
     "output_type": "execute_result"
    }
   ],
   "source": [
    "sqrt(3)"
   ]
  },
  {
   "cell_type": "code",
   "execution_count": 8,
   "id": "6cd21639",
   "metadata": {},
   "outputs": [
    {
     "data": {
      "text/latex": [
       "$\\displaystyle 2 \\sqrt{2}$"
      ],
      "text/plain": [
       "2*sqrt(2)"
      ]
     },
     "execution_count": 8,
     "metadata": {},
     "output_type": "execute_result"
    }
   ],
   "source": [
    "sqrt(8)"
   ]
  },
  {
   "cell_type": "code",
   "execution_count": 9,
   "id": "1d6f775e",
   "metadata": {},
   "outputs": [],
   "source": [
    "x, y = symbols('x y')"
   ]
  },
  {
   "cell_type": "code",
   "execution_count": 10,
   "id": "d982578e",
   "metadata": {},
   "outputs": [],
   "source": [
    "expr = x + 2*y"
   ]
  },
  {
   "cell_type": "code",
   "execution_count": 11,
   "id": "1018e76f",
   "metadata": {},
   "outputs": [
    {
     "data": {
      "text/latex": [
       "$\\displaystyle x + 2 y$"
      ],
      "text/plain": [
       "x + 2*y"
      ]
     },
     "execution_count": 11,
     "metadata": {},
     "output_type": "execute_result"
    }
   ],
   "source": [
    "expr"
   ]
  },
  {
   "cell_type": "code",
   "execution_count": 12,
   "id": "2db520fd",
   "metadata": {},
   "outputs": [
    {
     "data": {
      "text/latex": [
       "$\\displaystyle x + 2 y + 1$"
      ],
      "text/plain": [
       "x + 2*y + 1"
      ]
     },
     "execution_count": 12,
     "metadata": {},
     "output_type": "execute_result"
    }
   ],
   "source": [
    "expr +1"
   ]
  },
  {
   "cell_type": "code",
   "execution_count": 13,
   "id": "b1007b54",
   "metadata": {},
   "outputs": [
    {
     "data": {
      "text/latex": [
       "$\\displaystyle x \\left(x + 2 y\\right)$"
      ],
      "text/plain": [
       "x*(x + 2*y)"
      ]
     },
     "execution_count": 13,
     "metadata": {},
     "output_type": "execute_result"
    }
   ],
   "source": [
    "x*expr"
   ]
  },
  {
   "cell_type": "code",
   "execution_count": 14,
   "id": "67a254ad",
   "metadata": {},
   "outputs": [
    {
     "data": {
      "text/latex": [
       "$\\displaystyle x + 2 y$"
      ],
      "text/plain": [
       "x + 2*y"
      ]
     },
     "execution_count": 14,
     "metadata": {},
     "output_type": "execute_result"
    }
   ],
   "source": [
    "expr"
   ]
  },
  {
   "cell_type": "code",
   "execution_count": 15,
   "id": "4b0b0ca3",
   "metadata": {},
   "outputs": [],
   "source": [
    "expanded_expr = expand(x*expr)"
   ]
  },
  {
   "cell_type": "code",
   "execution_count": 16,
   "id": "051b08ef",
   "metadata": {},
   "outputs": [
    {
     "data": {
      "text/latex": [
       "$\\displaystyle x^{2} + 2 x y$"
      ],
      "text/plain": [
       "x**2 + 2*x*y"
      ]
     },
     "execution_count": 16,
     "metadata": {},
     "output_type": "execute_result"
    }
   ],
   "source": [
    "expanded_expr"
   ]
  },
  {
   "cell_type": "code",
   "execution_count": 17,
   "id": "2b03999d",
   "metadata": {},
   "outputs": [],
   "source": [
    "init_printing(use_unicode=True)"
   ]
  },
  {
   "cell_type": "code",
   "execution_count": null,
   "id": "ca508037",
   "metadata": {},
   "outputs": [],
   "source": [
    "diff(sin(x))"
   ]
  }
 ],
 "metadata": {
  "kernelspec": {
   "display_name": "Python 3 (ipykernel)",
   "language": "python",
   "name": "python3"
  },
  "language_info": {
   "codemirror_mode": {
    "name": "ipython",
    "version": 3
   },
   "file_extension": ".py",
   "mimetype": "text/x-python",
   "name": "python",
   "nbconvert_exporter": "python",
   "pygments_lexer": "ipython3",
   "version": "3.9.7"
  }
 },
 "nbformat": 4,
 "nbformat_minor": 5
}
