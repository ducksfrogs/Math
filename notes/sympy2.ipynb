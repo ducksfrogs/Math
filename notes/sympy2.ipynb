{
 "cells": [
  {
   "cell_type": "code",
   "execution_count": 1,
   "id": "4ff682c3-ca4a-4723-8cf4-3073a15c4ee8",
   "metadata": {},
   "outputs": [],
   "source": [
    "from sympy import *"
   ]
  },
  {
   "cell_type": "code",
   "execution_count": 18,
   "id": "77a0d5d3-be90-49d8-9d1b-c0bd61f641aa",
   "metadata": {},
   "outputs": [],
   "source": [
    "x, y, z = symbols('x y z')"
   ]
  },
  {
   "cell_type": "code",
   "execution_count": 3,
   "id": "fde03ec9-939b-4a7f-9060-59d04195763b",
   "metadata": {},
   "outputs": [
    {
     "data": {
      "text/latex": [
       "$\\displaystyle \\frac{e^{x} \\sin{\\left(x \\right)}}{2} + \\frac{e^{x} \\cos{\\left(x \\right)}}{2} + \\frac{3 \\sqrt{2} \\sqrt{\\pi} S\\left(\\frac{\\sqrt{2} x}{\\sqrt{\\pi}}\\right) \\Gamma\\left(\\frac{3}{4}\\right)}{8 \\Gamma\\left(\\frac{7}{4}\\right)}$"
      ],
      "text/plain": [
       "exp(x)*sin(x)/2 + exp(x)*cos(x)/2 + 3*sqrt(2)*sqrt(pi)*fresnels(sqrt(2)*x/sqrt(pi))*gamma(3/4)/(8*gamma(7/4))"
      ]
     },
     "execution_count": 3,
     "metadata": {},
     "output_type": "execute_result"
    }
   ],
   "source": [
    "integrate(sin(x**2) + exp(x)*cos(x), x)"
   ]
  },
  {
   "cell_type": "code",
   "execution_count": 4,
   "id": "1fc662e7-824c-419a-ad99-af09989256b1",
   "metadata": {},
   "outputs": [
    {
     "data": {
      "text/latex": [
       "$\\displaystyle e^{x} \\sin{\\left(x \\right)}$"
      ],
      "text/plain": [
       "exp(x)*sin(x)"
      ]
     },
     "execution_count": 4,
     "metadata": {},
     "output_type": "execute_result"
    }
   ],
   "source": [
    "integrate(exp(x)*sin(x) + exp(x)*cos(x), x)"
   ]
  },
  {
   "cell_type": "code",
   "execution_count": 5,
   "id": "5dfabdce-29ea-4e39-a45a-17c0887271ff",
   "metadata": {},
   "outputs": [
    {
     "data": {
      "text/latex": [
       "$\\displaystyle \\frac{\\sqrt{2} \\sqrt{\\pi}}{2}$"
      ],
      "text/plain": [
       "sqrt(2)*sqrt(pi)/2"
      ]
     },
     "execution_count": 5,
     "metadata": {},
     "output_type": "execute_result"
    }
   ],
   "source": [
    "integrate(sin(x**2),(x, -oo, oo))"
   ]
  },
  {
   "cell_type": "code",
   "execution_count": 6,
   "id": "c7e530ad-f02e-4535-a0ac-bf9f9b90dad0",
   "metadata": {},
   "outputs": [
    {
     "data": {
      "text/latex": [
       "$\\displaystyle 1$"
      ],
      "text/plain": [
       "1"
      ]
     },
     "execution_count": 6,
     "metadata": {},
     "output_type": "execute_result"
    }
   ],
   "source": [
    "limit(sin(x)/x , x ,0)"
   ]
  },
  {
   "cell_type": "code",
   "execution_count": 7,
   "id": "670f9336-8621-4910-a24c-160c24a447df",
   "metadata": {},
   "outputs": [
    {
     "data": {
      "text/latex": [
       "$\\displaystyle \\pi$"
      ],
      "text/plain": [
       "pi"
      ]
     },
     "execution_count": 7,
     "metadata": {},
     "output_type": "execute_result"
    }
   ],
   "source": [
    "pi"
   ]
  },
  {
   "cell_type": "code",
   "execution_count": 8,
   "id": "e732335d-9abd-4fb1-8069-e3b2ea77ca42",
   "metadata": {},
   "outputs": [
    {
     "data": {
      "text/plain": [
       "[-sqrt(2), sqrt(2)]"
      ]
     },
     "execution_count": 8,
     "metadata": {},
     "output_type": "execute_result"
    }
   ],
   "source": [
    "solve(x**2 -2, x)"
   ]
  },
  {
   "cell_type": "code",
   "execution_count": 9,
   "id": "4490be44-9097-4aaa-9fe7-84f32ec38179",
   "metadata": {},
   "outputs": [],
   "source": [
    "t = symbols('t')"
   ]
  },
  {
   "cell_type": "code",
   "execution_count": 10,
   "id": "f3b3a110-4ca2-4d97-8e26-73b340806d23",
   "metadata": {},
   "outputs": [],
   "source": [
    "y = Function('y')"
   ]
  },
  {
   "cell_type": "code",
   "execution_count": 11,
   "id": "fba2ba6d-0eff-422e-8736-d9470bab92e8",
   "metadata": {},
   "outputs": [
    {
     "data": {
      "text/latex": [
       "$\\displaystyle y{\\left(t \\right)} = C_{2} e^{- t} + \\left(C_{1} + \\frac{t}{2}\\right) e^{t}$"
      ],
      "text/plain": [
       "Eq(y(t), C2*exp(-t) + (C1 + t/2)*exp(t))"
      ]
     },
     "execution_count": 11,
     "metadata": {},
     "output_type": "execute_result"
    }
   ],
   "source": [
    "dsolve(Eq(y(t).diff(t,t) -y(t), exp(t)), y(t))"
   ]
  },
  {
   "cell_type": "code",
   "execution_count": 12,
   "id": "a1c4c9f1-a719-4236-8f5c-24ac2692b5dd",
   "metadata": {},
   "outputs": [
    {
     "data": {
      "text/plain": [
       "{3/2 - sqrt(17)/2: 1, 3/2 + sqrt(17)/2: 1}"
      ]
     },
     "execution_count": 12,
     "metadata": {},
     "output_type": "execute_result"
    }
   ],
   "source": [
    "Matrix([[1,2],[2,2]]).eigenvals()"
   ]
  },
  {
   "cell_type": "code",
   "execution_count": 14,
   "id": "4eda41e4-155b-4afc-b9f0-56f3a718a835",
   "metadata": {},
   "outputs": [],
   "source": [
    "expr = cos(x) +1"
   ]
  },
  {
   "cell_type": "code",
   "execution_count": 15,
   "id": "463984c5-a431-48cb-9893-f823018e90ba",
   "metadata": {},
   "outputs": [
    {
     "data": {
      "text/latex": [
       "$\\displaystyle \\cos{\\left(1 \\right)} + 1$"
      ],
      "text/plain": [
       "cos(1) + 1"
      ]
     },
     "execution_count": 15,
     "metadata": {},
     "output_type": "execute_result"
    }
   ],
   "source": [
    "expr.subs(x,1)"
   ]
  },
  {
   "cell_type": "code",
   "execution_count": 16,
   "id": "56083f97-3d69-4e6d-96a1-874cd74d2161",
   "metadata": {},
   "outputs": [],
   "source": [
    "expr = sin(2*x) + cos(2*x)"
   ]
  },
  {
   "cell_type": "code",
   "execution_count": 17,
   "id": "f9ab2047-50d0-41b1-9da0-81212d3ffc2d",
   "metadata": {},
   "outputs": [
    {
     "data": {
      "text/latex": [
       "$\\displaystyle 2 \\sin{\\left(x \\right)} \\cos{\\left(x \\right)} + 2 \\cos^{2}{\\left(x \\right)} - 1$"
      ],
      "text/plain": [
       "2*sin(x)*cos(x) + 2*cos(x)**2 - 1"
      ]
     },
     "execution_count": 17,
     "metadata": {},
     "output_type": "execute_result"
    }
   ],
   "source": [
    "expand_trig(expr)"
   ]
  },
  {
   "cell_type": "code",
   "execution_count": 19,
   "id": "1c185659-9466-485a-acd4-2d3adf16c451",
   "metadata": {},
   "outputs": [],
   "source": [
    "expr = x**3 + 4*x*y -z"
   ]
  },
  {
   "cell_type": "code",
   "execution_count": null,
   "id": "a7491cf9-81c9-497e-a2de-199a985e2d04",
   "metadata": {},
   "outputs": [],
   "source": [
    "expr.subs([x,2])"
   ]
  }
 ],
 "metadata": {
  "kernelspec": {
   "display_name": "Python 3",
   "language": "python",
   "name": "python3"
  },
  "language_info": {
   "codemirror_mode": {
    "name": "ipython",
    "version": 3
   },
   "file_extension": ".py",
   "mimetype": "text/x-python",
   "name": "python",
   "nbconvert_exporter": "python",
   "pygments_lexer": "ipython3",
   "version": "3.8.8"
  }
 },
 "nbformat": 4,
 "nbformat_minor": 5
}
